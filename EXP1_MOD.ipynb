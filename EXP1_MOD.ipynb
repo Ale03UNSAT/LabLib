{
 "cells": [
  {
   "cell_type": "code",
   "execution_count": 1,
   "id": "aa263071",
   "metadata": {},
   "outputs": [],
   "source": [
    "%matplotlib inline\n",
    "import matplotlib.pyplot as plt\n",
    "import numpy as np\n",
    "from scipy import stats\n",
    "import pandas as pd"
   ]
  },
  {
   "cell_type": "code",
   "execution_count": 2,
   "id": "6fd0f39c",
   "metadata": {},
   "outputs": [],
   "source": [
    "#Funzione media pesata\n",
    "def weighted_mean (x, w):\n",
    "    return (np.sum(x*w))/ (np.sum(w))"
   ]
  },
  {
   "cell_type": "code",
   "execution_count": 3,
   "id": "363f39ed",
   "metadata": {},
   "outputs": [],
   "source": [
    "#Funzioni Residui Lineari\n",
    "def res_lin (x, y, E_m, E_c, w, verbose=True):\n",
    "    if (verbose):\n",
    "        for i in range (0, len(y)):\n",
    "            print ('e_{:} = {:}\\n'.format(i+1, (y[i] - E_m*x[i] - E_c)/w[i]) )\n",
    "        return (y - E_m*x - E_c)/w\n",
    "    else:\n",
    "        return (y - E_m*x - E_c)/w\n",
    "    \n",
    "def chi2_lin (x, y, E_m, E_c, w):\n",
    "    return np.sum( ( (y - E_m*x - E_c)/w )**2 )\n",
    "\n",
    "def y_lin(x, m, c):\n",
    "    return (m*x+c)\n",
    "\n",
    "def y_unc(xP, u_m, u_c, cov_mc):\n",
    "    return np.sqrt(np.power(xP, 2)*np.power(u_m, 2) +\n",
    "                   np.power(u_c, 2) + 2*xP*cov_mc )\n",
    "\n",
    "def verify_seq(w_x, w_y, m):\n",
    "    Y = w_y\n",
    "    X = (m*w_x)\n",
    "    print ('X : \\n', X, '\\nY : \\n', Y, '\\n')\n",
    "    operation = False\n",
    "    for i in range (0, len(Y)):\n",
    "        if (X[i] >= 0.1*Y[i]):\n",
    "            temp_s_eq = np.sqrt(Y**2+X**2)\n",
    "            operation = True\n",
    "    if (operation == True):\n",
    "        print ('S_eq = {:.4}'.format(temp_s_eq))\n",
    "        S_EQ = temp_seq\n",
    "        return S_EQ\n",
    "    else:\n",
    "        print ('Non è necessario reiterare la sigma')\n",
    "        return w_y\n",
    "\n",
    "def s_th (x, y, E_m, E_c) :\n",
    "    s = np.sqrt( np.sum( (y-E_m*x-E_c)**2 )/ (len(y)-2))\n",
    "    print ('S_th ={:.5}'.format(s))\n",
    "    return s\n",
    "def errore_sistematico (u_calc, u_th):\n",
    "    E = np.sqrt(np.abs(u_calc**2-u_th**2))\n",
    "    print ('Errore sistematico :\\n', E)\n",
    "    return E"
   ]
  },
  {
   "cell_type": "code",
   "execution_count": 4,
   "id": "4854b998",
   "metadata": {},
   "outputs": [],
   "source": [
    "def Linear_Fit (x, y, w, verbose_1=False, verbose_2=False, verbose_res = False, verbose_fit=True):\n",
    "    \n",
    "    # Per il fit lineare si utilizzano i pesi quadratici, \n",
    "    # ma è più veloce calcolarli una sola volta e pesarli già al quadrato\n",
    "    \n",
    "    #sums (1/w^2)\n",
    "    w2_y = np.power(w, -2)\n",
    "    sum_s_w = np.sum (w2_y)\n",
    "    \n",
    "    #valori pesati\n",
    "    x_w  = weighted_mean (x, w2_y)\n",
    "    y_w  = weighted_mean (y, w2_y)\n",
    "    xy_w = weighted_mean (x*y, w2_y)\n",
    "    x2_w = weighted_mean (x*x, w2_y) \n",
    "    # Stampa: Oggetti base\n",
    "    if (verbose_1):\n",
    "        print ('s_tot = {:}\\n'.format(np.sqrt(1/sum_s_w))+\n",
    "               'x_w = {:}\\n'.format(x_w)+\n",
    "               'y_w = {:}\\n'.format(y_w)+\n",
    "               'xy_w = {:}\\n'.format(xy_w)+\n",
    "               'x2_w = {:}\\n'.format(x2_w))\n",
    "            \n",
    "    #varianza e covarianza pesata\n",
    "    wvar_x  = x2_w - (x_w**2)\n",
    "    wcov_xy = xy_w - x_w*y_w \n",
    "    # Stampa: Varianze \"Pesate\"\n",
    "    if (verbose_2):\n",
    "        print ('wVAR_x = {:}\\n'.format(wvar_x)+\n",
    "               'wCOV_xy = {:}\\n'.format(wcov_xy))\n",
    "    #m\n",
    "    E_m = wcov_xy/wvar_x\n",
    "    VAR_m = 1/(sum_s_w * wvar_x)\n",
    "    U_m = np.sqrt(VAR_m)\n",
    "    #c\n",
    "    E_c = y_w - E_m * x_w\n",
    "    VAR_c = (x2_w)/(sum_s_w * wvar_x)\n",
    "    U_c = np.sqrt(VAR_c)\n",
    "    #COV[m,c]\n",
    "    COV_mc = -x_w/(sum_s_w * wvar_x)\n",
    "    #chi2\n",
    "    chi2 = chi2_lin(x, y, E_m, E_c, w)  \n",
    "    #rho\n",
    "    rho_mc = COV_mc / (U_m * U_c)\n",
    "    #residui\n",
    "    if (verbose_res):\n",
    "        res = res_lin (x, y, E_m, E_c, w, verbose=True)\n",
    "    else:\n",
    "        res = res_lin (x, y, E_m, E_c, w, verbose=False)        \n",
    "    # Stampa: \"Risultati fit\"\n",
    "    if (verbose_fit):\n",
    "        print ('E_m = {:.4}'.format(E_m)+'\\n'+\n",
    "               'VAR_m = {:.4}'.format(VAR_m)+'\\n'+\n",
    "               'U_m = {:.4}'.format(U_m)+'\\n'+\n",
    "               'E_c = {:.4}'.format(E_c)+'\\n'+\n",
    "               'VAR_c = {:.4}'.format(VAR_c)+'\\n'+\n",
    "               'U_c = {:.4}'.format(U_c)+'\\n'+\n",
    "               'chi2 = {:.4}'.format(chi2)+'\\n'\n",
    "               'rho_mc = {:.4}'.format(rho_mc)+'\\n')\n",
    "    \n",
    "    return E_m, U_m, E_c, U_c, COV_mc, chi2, rho_mc, res\n",
    " "
   ]
  },
  {
   "cell_type": "code",
   "execution_count": 5,
   "id": "ebdbf2cd",
   "metadata": {},
   "outputs": [],
   "source": [
    "###############################################################\n",
    "### retta di regressione lineare : grafico in scala semilog ###\n",
    "###############################################################\n",
    "def my_mean(x, w):\n",
    "    return np.sum( x*w ) / np.sum( w )\n",
    "\n",
    "def my_cov(x, y, w):\n",
    "    return my_mean(x*y, w) - my_mean(x, w)*my_mean(y, w)\n",
    "\n",
    "def my_var(x, w):\n",
    "    return my_cov(x, x, w)\n",
    "\n",
    "def my_line(x, m=1, c=0):\n",
    "    return m*x + c\n",
    "\n",
    "def y_estrapolato(x, m, c, sigma_m, sigma_c, cov_mc):\n",
    "    y = m*x + c\n",
    "    uy = np.sqrt(np.power(x, 2)*np.power(sigma_m, 2) +\n",
    "                   np.power(sigma_c, 2) + 2*x*cov_mc ) \n",
    "    return y, uy\n",
    "def lin_fit(x, y, sd_y, xlabel=\"x [ux]\", ylabel=\"y [uy]\", xm=0., xM=1., ym=0., yM=1., \n",
    "            verbose=True, plot=False, setrange=False):\n",
    "\n",
    "    #pesi\n",
    "    w_y = np.power(sd_y.astype(float), -2) \n",
    "    \n",
    "    #m\n",
    "    m = my_cov(x, y, w_y) / my_var(x, w_y)\n",
    "    var_m = 1 / ( my_var(x, w_y) * np.sum(w_y) )\n",
    "    \n",
    "    #c\n",
    "    c = my_mean(y, w_y) - my_mean(x, w_y) * m\n",
    "    var_c = my_mean(x*x, w_y)  / ( my_var(x, w_y) * np.sum(w_y) )\n",
    "    \n",
    "    #cov\n",
    "    cov_mc = - my_mean(x, w_y) / ( my_var(x, w_y) * np.sum(w_y) ) \n",
    "   \n",
    "    #rho\n",
    "    rho_mc = cov_mc / ( np.sqrt(var_m) * np.sqrt(var_c) )\n",
    "\n",
    "    if (verbose):\n",
    "        \n",
    "        print ('m         = ', m.round(4))\n",
    "        print ('sigma(m)  = ', np.sqrt(var_m).round(4))\n",
    "        print ('c         = ', c.round(4))\n",
    "        print ('sigma(c)  = ', np.sqrt(var_c).round(4))\n",
    "        print ('cov(m, c) = ', cov_mc.round(4))\n",
    "        print ('rho(m, c) = ', rho_mc.round(4))\n",
    "        \n",
    "    if (plot):\n",
    "        \n",
    "        # rappresento i dati\n",
    "        plt.errorbar(x, y, yerr=sd_y, xerr=0, ls='', marker='o', \n",
    "                     color=\"b\", ecolor = 'cyan', label='dati')\n",
    "\n",
    "        # costruisco dei punti x su cui valutare la retta del fit              \n",
    "        xmin = float(np.min(x)) \n",
    "        xmax = float(np.max(x))\n",
    "        xmin_plot = xmin-.2*(xmax-xmin)\n",
    "        xmax_plot = xmax+.2*(xmax-xmin)\n",
    "        if (setrange):\n",
    "            xmin_plot = xm\n",
    "            xmax_plot = xM  \n",
    "        x1 = np.linspace(xmin_plot, xmax_plot, 100)\n",
    "        y1 = my_line(x1, m, c)\n",
    "        \n",
    "        # rappresento la retta del fit\n",
    "        plt.plot(x1, y1, linestyle='--', color=\"r\", label=\"fit lineare\")\n",
    "        plt.xlabel(xlabel)\n",
    "        plt.ylabel(ylabel)\n",
    "        plt.xlim(xmin_plot,xmax_plot)\n",
    "        if (setrange):\n",
    "            plt.ylim(ym,yM)\n",
    "        \n",
    "        plt.legend()\n",
    "        \n",
    "        \n",
    "    return m, np.sqrt(var_m), c, np.sqrt(var_c), cov_mc, rho_mc"
   ]
  },
  {
   "cell_type": "markdown",
   "id": "e70ce30d",
   "metadata": {},
   "source": [
    "# Array utili"
   ]
  },
  {
   "cell_type": "code",
   "execution_count": 6,
   "id": "0d2975a0",
   "metadata": {},
   "outputs": [],
   "source": [
    "###############\n",
    "# Array Utili #\n",
    "###############\n",
    "E_m = np.zeros(3)\n",
    "U_m = np.zeros(3)\n",
    "E_c = np.zeros(3)\n",
    "U_c = np.zeros(3)\n",
    "COV_mc = np.zeros(3)\n",
    "chi2_ev = np.zeros(3)"
   ]
  },
  {
   "cell_type": "markdown",
   "id": "e3b9b6d8",
   "metadata": {},
   "source": [
    "# Parte 1"
   ]
  },
  {
   "cell_type": "markdown",
   "id": "5a262c8d",
   "metadata": {},
   "source": [
    "## Dati"
   ]
  },
  {
   "cell_type": "code",
   "execution_count": 7,
   "id": "e71e7c8b",
   "metadata": {},
   "outputs": [],
   "source": [
    "###########\n",
    "# Parte 1 #\n",
    "###########\n",
    "V_1 = np.array([2.00, 1.52, 1.40, 1.02, 800*(10**(-3)), 520*(10**(-3)), 400*(10**(-3)), 100*(10**(-3)), 0])\n",
    "t_1 = np.array([ 0.0, 20.0, 24.0, 40.0, 60.0, 84.0, 100.0, 200.0, 396.0])*(10**(-6))"
   ]
  },
  {
   "cell_type": "markdown",
   "id": "58e39d3d",
   "metadata": {},
   "source": [
    "## Scatterplot"
   ]
  },
  {
   "cell_type": "code",
   "execution_count": 8,
   "id": "68e13008",
   "metadata": {},
   "outputs": [],
   "source": [
    "def scatterplot_errorbar (x, y, w_y, l, xl, yl, path, size=(10,8), n_ax=111, resolution=100, save=True, nplots=1):\n",
    "    fig = plt.figure(figsize = size, dpi = resolution)\n",
    "    #Modalità SINGLE-PLOT\n",
    "    if nplots == 1:\n",
    "        ax = plt.subplot(n_ax)\n",
    "        #Scatter \n",
    "        ax.errorbar (x, y, yerr = w_y, \n",
    "                     linestyle = ' ', ecolor = 'cyan', fmt = '.', color = 'blue',\n",
    "                     label = l)\n",
    "        #Axes\n",
    "        ax.xaxis.set_label_text(xl)\n",
    "        ax.yaxis.set_label_text(yl)\n",
    "        #Customization\n",
    "        ax.spines['top'].set_color('none')\n",
    "        ax.spines['right'].set_color('none')\n",
    "        ax.legend(loc='best')\n",
    "    #Modalità MULTI-PLOT\n",
    "    else: \n",
    "        for i in range (0, nplots):\n",
    "            ax = plt.subplot(n_ax[i])\n",
    "            #Scatter \n",
    "            ax.errorbar (x[i], y[i], yerr = w_y[i], \n",
    "                         linestyle = ' ', ecolor = 'cyan', fmt = '.', color = 'blue',\n",
    "                         label = l[i])\n",
    "            #Axes\n",
    "            ax.xaxis.set_label_text(xl[i])\n",
    "            ax.yaxis.set_label_text(yl[i])\n",
    "            #Customization\n",
    "            ax.spines['top'].set_color('none')\n",
    "            ax.spines['right'].set_color('none')\n",
    "            ax.legend(loc='best')\n",
    "    \n",
    "    if (save):\n",
    "        fig = plt.savefig(path)\n",
    "\n",
    "    return fig"
   ]
  },
  {
   "cell_type": "code",
   "execution_count": 9,
   "id": "41a90625",
   "metadata": {},
   "outputs": [
    {
     "data": {
      "image/png": "[encoded data removed]",
      "text/plain": [
       "<Figure size 1000x800 with 1 Axes>"
      ]
     },
     "metadata": {
      "needs_background": "light"
     },
     "output_type": "display_data"
    }
   ],
   "source": [
    "fig = scatterplot_errorbar (t_1, V_1, np.ones(len(t_1)), \n",
    "                            'Misurazioni $\\Delta V(t)$', \n",
    "                            '$t [s]$',  \n",
    "                            '$\\Delta V [V]$', \n",
    "                            'Graphs/Graph_ScatterPlot1.png', \n",
    "                            resolution = 100, save=True)"
   ]
  },
  {
   "cell_type": "markdown",
   "id": "ad41ddfd",
   "metadata": {},
   "source": [
    "## Fit Esponenziale"
   ]
  },
  {
   "cell_type": "code",
   "execution_count": 10,
   "id": "2bdf48ee",
   "metadata": {},
   "outputs": [
    {
     "data": {
      "text/plain": [
       "array([0.025     , 0.03289474, 0.03571429, 0.04901961, 0.0625    ,\n",
       "       0.09615385, 0.125     , 0.5       ])"
      ]
     },
     "execution_count": 10,
     "metadata": {},
     "output_type": "execute_result"
    }
   ],
   "source": [
    "dt_1      = t_1[:-1]-t_1[-1]\n",
    "dV_1      = V_1[:-1]-V_1[-1]\n",
    "U_dV_1    = 0.5*100*(10**(-3))*np.ones(len(dV_1))\n",
    "logdV_1   = np.log(dV_1)\n",
    "U_logdV_1 = U_dV_1/dV_1\n",
    "\n",
    "U_logdV_1"
   ]
  },
  {
   "cell_type": "code",
   "execution_count": 11,
   "id": "9eb3e05d",
   "metadata": {},
   "outputs": [],
   "source": [
    "#def linearfit_plot (x, y, u_y, m, c, u_m, u_c, )"
   ]
  },
  {
   "cell_type": "code",
   "execution_count": 17,
   "id": "e9d17c11",
   "metadata": {},
   "outputs": [],
   "source": [
    "def LinearFit_plot (x, y, w_y,  ldata, lplot, xl, yl, path, size=(10,8), n_ax=111, resolution=100, save=True):\n",
    "    fig = plt.figure (figsize=size, dpi=resolution)  \n",
    "    \n",
    "    E_m, U_m, E_c, U_c, COV_mc, chi2_ev, rho, res = Linear_Fit (x, y, w_y)\n",
    "    ax = plt.subplot(n_ax)\n",
    "\n",
    "    ax.errorbar ( x, y, yerr = w_y,\n",
    "                  linestyle = ' ', ecolor = 'cyan', fmt = '.', color = 'blue',\n",
    "                  label = ldata)\n",
    "\n",
    "    #Curva di Regressione\n",
    "    xline  = np.linspace ( np.min(x), np.max(x), 1000)\n",
    "    yline  = y_lin(xline, E_m, E_c)\n",
    "    \n",
    "    ax.plot ( xline, yline, \n",
    "              linestyle = '--', color = 'red',\n",
    "              label = lplot)\n",
    "    #Retta di estrapolazione\n",
    "    #ax.vlines (np.min(dt_1), 0, np.exp(E_m*np.min(dt_1)+ E_c), \n",
    "    #           linestyle = 'dashdot', color= 'black', alpha = 0.5)\n",
    "    \n",
    "    #ax.set_xlim(0,10)\n",
    "    ax.xaxis.set_label_text(xl)\n",
    "    ax.yaxis.set_label_text(yl) \n",
    "    #Customization\n",
    "    ax.spines['top'].set_color('none')\n",
    "    ax.spines['right'].set_color('none')\n",
    "    #ax.spines['left'].set_position('zero')\n",
    "    ax.legend(loc='best')\n",
    "    \n",
    "    if (save):\n",
    "        fig = plt.savefig(path)\n",
    "    \n",
    "    return fig"
   ]
  },
  {
   "cell_type": "code",
   "execution_count": 18,
   "id": "a522169f",
   "metadata": {},
   "outputs": [
    {
     "name": "stdout",
     "output_type": "stream",
     "text": [
      "E_m = -1.587e+04\n",
      "VAR_m = 4.526e+05\n",
      "U_m = 672.8\n",
      "E_c = -5.578\n",
      "VAR_c = 0.06403\n",
      "U_c = 0.253\n",
      "chi2 = 2.702\n",
      "rho_mc = 0.9981\n",
      "\n"
     ]
    },
    {
     "data": {
      "image/png": "[encoded data removed]",
      "text/plain": [
       "<Figure size 1000x800 with 1 Axes>"
      ]
     },
     "metadata": {
      "needs_background": "light"
     },
     "output_type": "display_data"
    }
   ],
   "source": [
    "#m, um, c, uc, COV_mc, chi2_ev = Linear_Fit (dt_1, logdV_1, U_logdV_1)\n",
    "fig = LinearFit_plot (dt_1, logdV_1, U_logdV_1,\n",
    "           'Punti sperimentali $(t, V(t))$', \n",
    "           'Fit esponenziale $\\Delta V(t)$',\n",
    "           '$t [s]$',\n",
    "           '$\\Delta V [V]$', \n",
    "           \"Graphs/boh.png\")"
   ]
  },
  {
   "cell_type": "code",
   "execution_count": null,
   "id": "ff5aa559",
   "metadata": {},
   "outputs": [],
   "source": [
    "fig = plt.figure (figsize=(20,10), dpi=100)  \n",
    "#####################\n",
    "# Fit Esponeniziale #\n",
    "#####################\n",
    "ax = plt.subplot(121)\n",
    "E_m[0], U_m[0], E_c[0], U_c[0], COV_mc[0], chi2_ev[0] = Linear_Fit (dt_1, logdV_1, U_logdV_1)\n",
    "\n",
    "ax.errorbar ( dt_1, dV_1, yerr = U_dV_1,\n",
    "              linestyle = ' ', ecolor = 'cyan', fmt = '.', color = 'blue',\n",
    "              label = 'Punti sperimentali $(t, V(t))$')\n",
    "\n",
    "#Curva di Regressione\n",
    "xline  = np.linspace ( np.min(dt_1), np.max(dt_1), 1000)\n",
    "yline  = np.exp(y_lin(xline, E_m[0],E_c[0]))\n",
    "    \n",
    "ax.plot ( xline, yline, \n",
    "          linestyle = '--', color = 'red',\n",
    "          label = 'Fit esponenziale $\\Delta V(t)$')\n",
    "#Retta di estrapolazione\n",
    "#ax.vlines (np.min(dt_1), 0, np.exp(E_m*np.min(dt_1)+ E_c), \n",
    "#           linestyle = 'dashdot', color= 'black', alpha = 0.5)\n",
    "    \n",
    "#ax.set_xlim(0,10)\n",
    "ax.xaxis.set_label_text('$t [s]$')\n",
    "ax.yaxis.set_label_text('$\\Delta V [V]$') \n",
    "#Customization\n",
    "ax.spines['top'].set_color('none')\n",
    "ax.spines['right'].set_color('none')\n",
    "#ax.spines['left'].set_position('zero')\n",
    "ax.legend(loc='best')\n",
    "\n",
    "ax = plt.subplot (1,2,2)\n",
    "lin_fit(dt_1[:7], logdV_1[:7], U_logdV_1[:7], xlabel=\"t [s]\", ylabel=\"log($\\Delta V/V$) [ad]\", verbose=False, plot=True, setrange=False)\n",
    "\n",
    "fig = plt.savefig (\"Graphs/Graph_ExpFit1.png\")"
   ]
  },
  {
   "cell_type": "code",
   "execution_count": null,
   "id": "38bfb1d2",
   "metadata": {},
   "outputs": [],
   "source": [
    "sigma_th = s_th (dt_1, logdV_1, E_m[0], E_c[0])\n",
    "np.exp(sigma_th)"
   ]
  },
  {
   "cell_type": "markdown",
   "id": "c187412b",
   "metadata": {},
   "source": [
    "## $\\tau$"
   ]
  },
  {
   "cell_type": "code",
   "execution_count": null,
   "id": "b43ede2c",
   "metadata": {},
   "outputs": [],
   "source": [
    "E_Tau_1 = -1/E_m[0]\n",
    "U_Tau_1 = (E_Tau_1**2)*U_m[0]\n",
    "\n",
    "E_Tau_1*10**6, U_Tau_1*10**6"
   ]
  },
  {
   "cell_type": "code",
   "execution_count": null,
   "id": "2d890256",
   "metadata": {},
   "outputs": [],
   "source": [
    "lin_fit(dt_1[:7], logdV_1[:7], U_logdV_1[:7], xlabel=\"t [s]\", ylabel=\"log($\\Delta V$) [V]\", verbose=False, plot=True, setrange=False)"
   ]
  },
  {
   "cell_type": "markdown",
   "id": "44e93eb7",
   "metadata": {},
   "source": [
    "# Parte 2"
   ]
  },
  {
   "cell_type": "markdown",
   "id": "7607b38f",
   "metadata": {},
   "source": [
    "## Dati"
   ]
  },
  {
   "cell_type": "code",
   "execution_count": null,
   "id": "713e5301",
   "metadata": {},
   "outputs": [],
   "source": [
    "###########\n",
    "# Parte 2 #\n",
    "###########\n",
    "V_2 = np.array([8.4, 7.36, 6.40, 5.36, 4.56, 3.84, 3.28, 2.80, 2.40, 2.00, 1.84])\n",
    "t_2 = np.array([0,  7.6, 17.6, 27.6, 37.6, 47.6, 57.6, 67.6, 77.6, 87.6, 97.6])*(10**(-6))"
   ]
  },
  {
   "cell_type": "markdown",
   "id": "04605d61",
   "metadata": {},
   "source": [
    "## Scatterplot"
   ]
  },
  {
   "cell_type": "code",
   "execution_count": null,
   "id": "39f10071",
   "metadata": {},
   "outputs": [],
   "source": [
    "fig = plt.figure(figsize = (10,8), dpi = 100)\n",
    "ax = plt.subplot(1,1,1)\n",
    "#Scatter \n",
    "ax.errorbar (t_2, V_2, yerr = np.ones(len(t_2)), \n",
    "             linestyle = ' ', ecolor = 'cyan', fmt = '.', color = 'blue',\n",
    "             label = 'Misurazioni'+ ' $\\Delta V(t)$')\n",
    "#Axes\n",
    "ax.yaxis.set_label_text('$\\delta V [V]$')\n",
    "ax.xaxis.set_label_text('$t [s]$')\n",
    "#Customization\n",
    "ax.spines['top'].set_color('none')\n",
    "ax.spines['right'].set_color('none')\n",
    "ax.legend(loc='best')\n",
    "\n",
    "fig = plt.savefig(\"Graphs/Graph_ScatterPlot2.png\")"
   ]
  },
  {
   "cell_type": "markdown",
   "id": "813ef375",
   "metadata": {},
   "source": [
    "## Fit Esponenziale"
   ]
  },
  {
   "cell_type": "code",
   "execution_count": null,
   "id": "7deefffd",
   "metadata": {},
   "outputs": [],
   "source": [
    "dt_2 = t_2[:-1]\n",
    "dV_2 = V_2[:-1]\n",
    "U_dV_2 = 0.5*400*(10**(-3))*np.ones(len(dV_2))\n",
    "logdV_2 = np.log(dV_2)\n",
    "U_logdV_2 = U_dV_2/dV_2\n",
    "\n",
    "dt_2, dV_2, logdV_2, U_logdV_2"
   ]
  },
  {
   "cell_type": "code",
   "execution_count": null,
   "id": "d8241c12",
   "metadata": {
    "scrolled": true
   },
   "outputs": [],
   "source": [
    "fig = plt.figure (figsize=(20,10), dpi=100)  \n",
    "#####################\n",
    "# Fit Esponeniziale #\n",
    "#####################\n",
    "ax = plt.subplot(1,2,1)\n",
    "E_m[1], U_m[1], E_c[1], U_c[1], COV_mc[1], chi2_ev[1] = Linear_Fit (dt_2, logdV_2, U_logdV_2)\n",
    "\n",
    "ax.errorbar ( dt_2, dV_2, yerr = U_dV_2,\n",
    "              linestyle = ' ', ecolor = 'cyan', fmt = '.', color = 'blue',\n",
    "              label = 'Punti sperimentali $(t, V(t))$')\n",
    "\n",
    "#Curva di Regressione\n",
    "xline  = np.linspace ( np.min(dt_2), np.max(dt_2), 1000)\n",
    "yline  = np.exp(E_m[1]*xline + E_c[1])\n",
    "    \n",
    "ax.plot ( xline, yline, \n",
    "          linestyle = '--', color = 'red',\n",
    "          label = 'Fit esponenziale $\\Delta V(t)$')\n",
    "#Retta di estrapolazione\n",
    "#ax.vlines (np.min(dt_1), 0, np.exp(E_m*np.min(dt_1)+ E_c), \n",
    "#           linestyle = 'dashdot', color= 'black', alpha = 0.5)\n",
    "    \n",
    "#ax.set_xlim(0,10)\n",
    "ax.xaxis.set_label_text('$t [s]$')\n",
    "ax.yaxis.set_label_text('$\\Delta V [V]$') \n",
    "#Customization\n",
    "ax.spines['top'].set_color('none')\n",
    "ax.spines['right'].set_color('none')\n",
    "#ax.spines['left'].set_position('zero')\n",
    "ax.legend(loc='best')\n",
    "\n",
    "ax = plt.subplot (1,2,2)\n",
    "lin_fit(dt_2, logdV_2, U_logdV_2, xlabel=\"t [s]\", ylabel=\"log($\\Delta V/V$) [ad]\", verbose=False, plot=True, setrange=False)\n",
    "\n",
    "fig = plt.savefig (\"Graphs/Graph_ExpFit2.png\")"
   ]
  },
  {
   "cell_type": "markdown",
   "id": "0264bc4a",
   "metadata": {},
   "source": [
    "## $\\tau$"
   ]
  },
  {
   "cell_type": "code",
   "execution_count": null,
   "id": "940220b1",
   "metadata": {},
   "outputs": [],
   "source": [
    "E_Tau_2 = -1/E_m[1]\n",
    "U_Tau_2 = (E_Tau_2**2)*U_m[1]\n",
    "\n",
    "E_Tau_2*10**6, U_Tau_2*10**6"
   ]
  },
  {
   "cell_type": "markdown",
   "id": "76556aba",
   "metadata": {},
   "source": [
    "# Parte 3"
   ]
  },
  {
   "cell_type": "markdown",
   "id": "b18535d3",
   "metadata": {},
   "source": [
    "## Dati"
   ]
  },
  {
   "cell_type": "code",
   "execution_count": null,
   "id": "15616e8f",
   "metadata": {},
   "outputs": [],
   "source": [
    "###########\n",
    "# Parte 3 #\n",
    "###########\n",
    "V_3 = np.array([0, 800*(10**(-3)), 1.84,2.56, 3.04, 3.44, 3.68, 3.84])\n",
    "t_3 = np.array([0, 6, 16, 26, 36, 46, 56, 66])*(10**(-6))"
   ]
  },
  {
   "cell_type": "markdown",
   "id": "c2d23009",
   "metadata": {},
   "source": [
    "## Scatterplot"
   ]
  },
  {
   "cell_type": "code",
   "execution_count": null,
   "id": "cde67ef6",
   "metadata": {},
   "outputs": [],
   "source": [
    "fig = plt.figure(figsize = (10,8), dpi = 100)\n",
    "ax = plt.subplot(1,1,1)\n",
    "#Scatter \n",
    "ax.errorbar (t_3, V_3, yerr = np.ones(len(t_3)), \n",
    "             linestyle = ' ', ecolor = 'cyan', fmt = '.', color = 'blue',\n",
    "             label = 'Misurazioni'+ ' $\\Delta V(t)$')\n",
    "#Axes\n",
    "ax.yaxis.set_label_text('$V [V]$')\n",
    "ax.xaxis.set_label_text('$t [s]$')\n",
    "#Customization\n",
    "ax.spines['top'].set_color('none')\n",
    "ax.spines['right'].set_color('none')\n",
    "ax.legend(loc='best')\n",
    "\n",
    "fig = plt.savefig(\"Graphs/Graph_ScatterPlot3.png\")"
   ]
  },
  {
   "cell_type": "markdown",
   "id": "dca90487",
   "metadata": {},
   "source": [
    "## Fit Esponenziale"
   ]
  },
  {
   "cell_type": "code",
   "execution_count": null,
   "id": "913a96a5",
   "metadata": {},
   "outputs": [],
   "source": [
    "dt_3 = t_3[1:-2]\n",
    "dV_3 = V_3[-1]- V_3[1:-2]\n",
    "U_dV_3 = 200*(10**(-3))*np.ones(len(dV_3))\n",
    "logdV_3 = np.log(dV_3)\n",
    "U_logdV_3 = U_dV_3/dV_3\n",
    "\n",
    "dt_3, dV_3, logdV_3, U_logdV_3,"
   ]
  },
  {
   "cell_type": "code",
   "execution_count": null,
   "id": "1bb9f707",
   "metadata": {},
   "outputs": [],
   "source": [
    "fig = plt.figure (figsize=(20,10), dpi=400)  \n",
    "#####################\n",
    "# Fit Esponeniziale #\n",
    "#####################\n",
    "ax = plt.subplot(1,2,1)\n",
    "E_m[2], U_m[2], E_c[2], U_c[2], COV_mc[2], chi2_ev[2] = Linear_Fit (dt_3, logdV_3, U_logdV_3)\n",
    "\n",
    "ax.errorbar ( dt_3, V_3[-1]-dV_3, yerr = U_dV_3,\n",
    "              linestyle = ' ', ecolor = 'cyan', fmt = '.', color = 'blue',\n",
    "              label = 'Punti sperimentali $(t, \\Delta V)$')\n",
    "\n",
    "#Curva di Regressione\n",
    "xline  = np.linspace ( np.min(dt_3), np.max(dt_3), 1000)\n",
    "yline  = V_3[-1] - np.exp(E_m[2]*xline + E_c[2])\n",
    "    \n",
    "ax.plot ( xline, yline, \n",
    "          linestyle = '--', color = 'red',\n",
    "          label = 'Fit esponenziale $\\Delta V(t)$')\n",
    "#Retta di estrapolazione\n",
    "#ax.vlines (np.min(dt_1), 0, np.exp(E_m*np.min(dt_1)+ E_c), \n",
    "#           linestyle = 'dashdot', color= 'black', alpha = 0.5)\n",
    "    \n",
    "#ax.set_xlim(0,10)\n",
    "ax.xaxis.set_label_text('$t [s]$')\n",
    "ax.yaxis.set_label_text('$\\Delta V_{(3)} [V]$') \n",
    "#Customization\n",
    "ax.spines['top'].set_color('none')\n",
    "ax.spines['right'].set_color('none')\n",
    "#ax.spines['left'].set_position('zero')\n",
    "ax.legend(loc='best')\n",
    "\n",
    "ax = plt.subplot(1,2,2)\n",
    "\n",
    "lin_fit(dt_3, logdV_3, U_logdV_3, xlabel=\"t [s]\", ylabel=\"log($\\Delta V/V$) [ad]\", verbose=False, plot=True, setrange=False)\n",
    "\n",
    "fig = plt.savefig (\"Graphs/Graph_ExpFit3.png\")\n",
    "E_m[2], U_m[2], E_c[2], U_c[2]"
   ]
  },
  {
   "cell_type": "markdown",
   "id": "bf06bd26",
   "metadata": {},
   "source": [
    "## $\\tau$"
   ]
  },
  {
   "cell_type": "code",
   "execution_count": null,
   "id": "6f0df2a1",
   "metadata": {},
   "outputs": [],
   "source": [
    "E_Tau_3 = -1/E_m[2]\n",
    "U_Tau_3 = (E_Tau_3**2)*U_m[2]\n",
    "\n",
    "E_Tau_3*10**6, U_Tau_3*10**6"
   ]
  },
  {
   "cell_type": "markdown",
   "id": "24477900",
   "metadata": {},
   "source": [
    "# Conclusioni e z"
   ]
  },
  {
   "cell_type": "code",
   "execution_count": null,
   "id": "d21c90fe",
   "metadata": {},
   "outputs": [],
   "source": [
    "R = 2.7*(10**3)\n",
    "C = 22*(10**(-9))\n",
    "\n",
    "tau1_th  = R*C\n",
    "tau2_th = R*C/2\n",
    "\n",
    "tau1_th, tau2_th"
   ]
  },
  {
   "cell_type": "code",
   "execution_count": null,
   "id": "71e235d2",
   "metadata": {},
   "outputs": [],
   "source": [
    "z_1 = np.abs(E_Tau_1-tau1_th)/U_Tau_1\n",
    "z_2 = np.abs(E_Tau_2-tau1_th)/U_Tau_2\n",
    "z_3 = np.abs(E_Tau_3-tau2_th)/U_Tau_3\n",
    "\n",
    "z_1, z_2, z_3"
   ]
  },
  {
   "cell_type": "code",
   "execution_count": null,
   "id": "39760a40",
   "metadata": {},
   "outputs": [],
   "source": []
  }
 ],
 "metadata": {
  "kernelspec": {
   "display_name": "Python 3",
   "language": "python",
   "name": "python3"
  },
  "language_info": {
   "codemirror_mode": {
    "name": "ipython",
    "version": 3
   },
   "file_extension": ".py",
   "mimetype": "text/x-python",
   "name": "python",
   "nbconvert_exporter": "python",
   "pygments_lexer": "ipython3",
   "version": "3.8.8"
  },
  "latex_envs": {
   "LaTeX_envs_menu_present": true,
   "autoclose": false,
   "autocomplete": false,
   "bibliofile": "biblio.bib",
   "cite_by": "apalike",
   "current_citInitial": 1,
   "eqLabelWithNumbers": true,
   "eqNumInitial": 1,
   "hotkeys": {
    "equation": "Ctrl-E",
    "itemize": "Ctrl-I"
   },
   "labels_anchors": false,
   "latex_user_defs": false,
   "report_style_numbering": false,
   "user_envs_cfg": false
  },
  "toc": {
   "base_numbering": 1,
   "nav_menu": {},
   "number_sections": true,
   "sideBar": true,
   "skip_h1_title": false,
   "title_cell": "Indice",
   "title_sidebar": "Indice",
   "toc_cell": false,
   "toc_position": {},
   "toc_section_display": true,
   "toc_window_display": true
  }
 },
 "nbformat": 4,
 "nbformat_minor": 5
}
